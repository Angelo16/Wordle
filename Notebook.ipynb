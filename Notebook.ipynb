{
 "cells": [
  {
   "cell_type": "code",
   "execution_count": 5,
   "metadata": {},
   "outputs": [
    {
     "data": {
      "text/plain": [
       "<bound method NDFrame.head of        aahed\n",
       "0      aalii\n",
       "1      aargh\n",
       "2      aarti\n",
       "3      abaca\n",
       "4      abaci\n",
       "...      ...\n",
       "12966  zuzim\n",
       "12967  zygal\n",
       "12968  zygon\n",
       "12969  zymes\n",
       "12970  zymic\n",
       "\n",
       "[12971 rows x 1 columns]>"
      ]
     },
     "execution_count": 5,
     "metadata": {},
     "output_type": "execute_result"
    }
   ],
   "source": [
    "import pandas as pd\n",
    "\n",
    "allowed_words = pd.read_csv ('allowed_words.txt')\n",
    "allowed_words.head"
   ]
  },
  {
   "cell_type": "code",
   "execution_count": 4,
   "metadata": {},
   "outputs": [
    {
     "data": {
      "text/plain": [
       "<bound method NDFrame.head of       aback\n",
       "0     abase\n",
       "1     abate\n",
       "2     abbey\n",
       "3     abbot\n",
       "4     abhor\n",
       "...     ...\n",
       "2309  young\n",
       "2310  youth\n",
       "2311  zebra\n",
       "2312  zesty\n",
       "2313  zonal\n",
       "\n",
       "[2314 rows x 1 columns]>"
      ]
     },
     "execution_count": 4,
     "metadata": {},
     "output_type": "execute_result"
    }
   ],
   "source": [
    "possible_words = pd.read_csv('possible_words.txt')\n",
    "possible_words.head"
   ]
  }
 ],
 "metadata": {
  "interpreter": {
   "hash": "0a3555273ac9d6773e9b887864a0eb25fad5582599de19688e09ec53875e5c48"
  },
  "kernelspec": {
   "display_name": "Python 3.8.5 ('DataScience')",
   "language": "python",
   "name": "python3"
  },
  "language_info": {
   "codemirror_mode": {
    "name": "ipython",
    "version": 3
   },
   "file_extension": ".py",
   "mimetype": "text/x-python",
   "name": "python",
   "nbconvert_exporter": "python",
   "pygments_lexer": "ipython3",
   "version": "3.8.5"
  },
  "orig_nbformat": 4
 },
 "nbformat": 4,
 "nbformat_minor": 2
}
